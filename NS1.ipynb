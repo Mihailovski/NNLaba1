{
  "nbformat": 4,
  "nbformat_minor": 0,
  "metadata": {
    "colab": {
      "provenance": [],
      "collapsed_sections": []
    },
    "kernelspec": {
      "name": "python3",
      "display_name": "Python 3"
    },
    "language_info": {
      "name": "python"
    }
  },
  "cells": [
    {
      "cell_type": "code",
      "execution_count": null,
      "metadata": {
        "id": "a9uUzT9XAkX5"
      },
      "outputs": [],
      "source": [
        "import numpy as np\n",
        "import random\n",
        "from sklearn.metrics import accuracy_score"
      ]
    },
    {
      "cell_type": "code",
      "source": [
        "def bit_func(x, y):\n",
        "  return x ^ y & y"
      ],
      "metadata": {
        "id": "Yl-2tl83-3dg"
      },
      "execution_count": null,
      "outputs": []
    },
    {
      "cell_type": "code",
      "source": [
        "def step_func(x):\n",
        "  if(x > 0):\n",
        "    return 1\n",
        "  else:\n",
        "    return 0\n",
        "\n",
        "class Neuron:\n",
        "  def __init__(self, weights, bias):\n",
        "    self.weights = weights\n",
        "    self.bias = bias\n",
        "\n",
        "  def get_sum(self, x_all):\n",
        "    sum = self.bias\n",
        "    for x, weight in zip(x_all, self.weights):\n",
        "      sum += weight * x\n",
        "    return sum\n",
        "\n",
        "  def feed(self, x):\n",
        "    return step_func(self.get_sum(x))\n",
        "    \n",
        "  def get_weights(self):\n",
        "    n_str = ''\n",
        "    for weight in self.weights:\n",
        "      n_str += str(weight) + \" \"\n",
        "    n_str += str(self.bias)\n",
        "    return n_str\n",
        "\n",
        "class Network:\n",
        "  def __init__(self):\n",
        "    self.n11 = Neuron([random.randint(-5, 5), random.randint(-5, 5)], 0)\n",
        "    self.n12 = Neuron([random.randint(-5, 5), random.randint(-5, 5)], 0)\n",
        "    self.n13 = Neuron([random.randint(-5, 5), random.randint(-5, 5)], 0)\n",
        "    self.n21 = Neuron([random.randint(-5, 5), random.randint(-5, 5)], random.randint(-5, 5))\n",
        "\n",
        "  def printNeurons(self):\n",
        "    print(\"(\" + self.n11.get_weights() + \" \" +\n",
        "                self.n12.get_weights() + \" \" +\n",
        "                self.n13.get_weights() + \" \" +\n",
        "                self.n21.get_weights() + \")\")\n",
        " \n",
        "  def predict(self, data):\n",
        "    y_pred = []\n",
        "    for x in data:\n",
        "      h1 = self.n11.feed(x)\n",
        "      h2 = self.n12.feed(x)\n",
        "      h3 = self.n13.feed(x)\n",
        "      h = [h1, h2, h3]\n",
        "      y_pred.append(self.n21.feed(h))\n",
        "    return(y_pred)\n",
        "\n",
        "  def trainHebb(self, data, y_trues):\n",
        "    epochs = 15\n",
        "    self.printNeurons()\n",
        "    for epoch in range(epochs):\n",
        "      for x, y_true in zip(data, y_trues):\n",
        "        h1 = self.n11.feed(x)\n",
        "        h2 = self.n12.feed(x)\n",
        "        h3 = self.n13.feed(x)\n",
        "        h = [h1, h2, h3]\n",
        "        out = self.n21.feed(h)\n",
        "        if(out > y_true):\n",
        "          for i in range(len(x)):\n",
        "            self.n11.weights[i] -= x[i]\n",
        "            self.n12.weights[i] -= x[i]\n",
        "            self.n13.weights[i] -= x[i]\n",
        "            self.n21.weights[i] -= h[i]\n",
        "          self.n21.bias -= 1\n",
        "        elif(out < y_true):\n",
        "          for i in range(len(x)):\n",
        "            self.n11.weights[i] += x[i]\n",
        "            self.n12.weights[i] += x[i]\n",
        "            self.n13.weights[i] += x[i]\n",
        "            self.n21.weights[i] += h[i]\n",
        "          self.n21.bias += 1\n",
        "      y_preds = self.predict(data)\n",
        "      acc = accuracy_score(y_trues, y_preds)\n",
        "      print(\"Epoch \" + str(epoch + 1) + \" acc: \" + str(acc))\n",
        "      self.printNeurons()\n",
        "    y_preds = self.predict(data)\n",
        "    acc = accuracy_score(y_trues, y_preds)\n",
        "    print(\"Final acc: \" + str(acc))\n",
        "    self.printNeurons()\n",
        "      \n",
        "data = np.array([\n",
        "  [0, 0],\n",
        "  [1, 0],\n",
        "  [0, 1],\n",
        "  [1, 1],\n",
        "])\n",
        "\n",
        "y_trues = np.array([\n",
        "  0,\n",
        "  0,\n",
        "  1,\n",
        "  0,\n",
        "])\n",
        "\n",
        "network = Network()\n",
        "network.trainHebb(data, y_trues)"
      ],
      "metadata": {
        "id": "_TqPuDO9Anai",
        "colab": {
          "base_uri": "https://localhost:8080/"
        },
        "outputId": "39925707-fac6-4fa0-a6d5-7583a5e499dd"
      },
      "execution_count": null,
      "outputs": [
        {
          "output_type": "stream",
          "name": "stdout",
          "text": [
            "(-4 5 0 -3 1 0 2 -2 0 3 -1 -2)\n",
            "Epoch 1 acc: 1.0\n",
            "(-5 5 0 -4 1 0 1 -2 0 3 0 -2)\n",
            "Epoch 2 acc: 1.0\n",
            "(-5 5 0 -4 1 0 1 -2 0 3 0 -2)\n",
            "Epoch 3 acc: 1.0\n",
            "(-5 5 0 -4 1 0 1 -2 0 3 0 -2)\n",
            "Epoch 4 acc: 1.0\n",
            "(-5 5 0 -4 1 0 1 -2 0 3 0 -2)\n",
            "Epoch 5 acc: 1.0\n",
            "(-5 5 0 -4 1 0 1 -2 0 3 0 -2)\n",
            "Epoch 6 acc: 1.0\n",
            "(-5 5 0 -4 1 0 1 -2 0 3 0 -2)\n",
            "Epoch 7 acc: 1.0\n",
            "(-5 5 0 -4 1 0 1 -2 0 3 0 -2)\n",
            "Epoch 8 acc: 1.0\n",
            "(-5 5 0 -4 1 0 1 -2 0 3 0 -2)\n",
            "Epoch 9 acc: 1.0\n",
            "(-5 5 0 -4 1 0 1 -2 0 3 0 -2)\n",
            "Epoch 10 acc: 1.0\n",
            "(-5 5 0 -4 1 0 1 -2 0 3 0 -2)\n",
            "Epoch 11 acc: 1.0\n",
            "(-5 5 0 -4 1 0 1 -2 0 3 0 -2)\n",
            "Epoch 12 acc: 1.0\n",
            "(-5 5 0 -4 1 0 1 -2 0 3 0 -2)\n",
            "Epoch 13 acc: 1.0\n",
            "(-5 5 0 -4 1 0 1 -2 0 3 0 -2)\n",
            "Epoch 14 acc: 1.0\n",
            "(-5 5 0 -4 1 0 1 -2 0 3 0 -2)\n",
            "Epoch 15 acc: 1.0\n",
            "(-5 5 0 -4 1 0 1 -2 0 3 0 -2)\n",
            "Final acc: 1.0\n",
            "(-5 5 0 -4 1 0 1 -2 0 3 0 -2)\n"
          ]
        }
      ]
    }
  ]
}